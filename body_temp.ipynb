{
 "cells": [
  {
   "cell_type": "markdown",
   "metadata": {},
   "source": [
    "# What is the True Normal Human Body Temperature? \n",
    "\n",
    "#### Background\n",
    "\n",
    "The mean normal body temperature was held to be 37$^{\\circ}$C or 98.6$^{\\circ}$F for more than 120 years since it was first conceptualized and reported by Carl Wunderlich in a famous 1868 book. But, is this value statistically correct?"
   ]
  },
  {
   "cell_type": "markdown",
   "metadata": {},
   "source": [
    "<h3>Exercises</h3>\n",
    "\n",
    "<p>In this exercise, you will analyze a dataset of human body temperatures and employ the concepts of hypothesis testing, confidence intervals, and statistical significance.</p>\n",
    "\n",
    "<p>Answer the following questions <b>in this notebook below and submit to your Github account</b>.</p> \n",
    "\n",
    "<ol>\n",
    "<li>  Is the distribution of body temperatures normal? \n",
    "    <ul>\n",
    "    <li> Although this is not a requirement for CLT to hold (read CLT carefully), it gives us some peace of mind that the population may also be normally distributed if we assume that this sample is representative of the population.\n",
    "    </ul>\n",
    "<li>  Is the sample size large? Are the observations independent?\n",
    "    <ul>\n",
    "    <li> Remember that this is a condition for the CLT, and hence the statistical tests we are using, to apply.\n",
    "    </ul>\n",
    "<li>  Is the true population mean really 98.6 degrees F?\n",
    "    <ul>\n",
    "    <li> Would you use a one-sample or two-sample test? Why?\n",
    "    <li> In this situation, is it appropriate to use the $t$ or $z$ statistic? \n",
    "    <li> Now try using the other test. How is the result be different? Why?\n",
    "    </ul>\n",
    "<li>  Draw a small sample of size 10 from the data and repeat both tests. \n",
    "    <ul>\n",
    "    <li> Which one is the correct one to use? \n",
    "    <li> What do you notice? What does this tell you about the difference in application of the $t$ and $z$ statistic?\n",
    "    </ul>\n",
    "<li>  At what temperature should we consider someone's temperature to be \"abnormal\"?\n",
    "    <ul>\n",
    "    <li> Start by computing the margin of error and confidence interval.\n",
    "    </ul>\n",
    "<li>  Is there a significant difference between males and females in normal temperature?\n",
    "    <ul>\n",
    "    <li> What test did you use and why?\n",
    "    <li> Write a story with your conclusion in the context of the original problem.\n",
    "    </ul>\n",
    "</ol>\n",
    "\n",
    "You can include written notes in notebook cells using Markdown: \n",
    "   - In the control panel at the top, choose Cell > Cell Type > Markdown\n",
    "   - Markdown syntax: http://nestacms.com/docs/creating-content/markdown-cheat-sheet\n",
    "\n",
    "#### Resources\n",
    "\n",
    "+ Information and data sources: http://www.amstat.org/publications/jse/datasets/normtemp.txt, http://www.amstat.org/publications/jse/jse_data_archive.htm\n",
    "+ Markdown syntax: http://nestacms.com/docs/creating-content/markdown-cheat-sheet\n",
    "\n",
    "****"
   ]
  },
  {
   "cell_type": "code",
   "execution_count": 1,
   "metadata": {
    "collapsed": true
   },
   "outputs": [],
   "source": [
    "import pandas as pd\n",
    "import numpy as np\n",
    "import matplotlib.pyplot as plt\n",
    "import matplotlib.mlab as mlab\n",
    "import scipy.stats as stats\n",
    "import seaborn as sns\n",
    "import math\n",
    "\n",
    "df = pd.read_csv('data/human_body_temperature.csv')"
   ]
  },
  {
   "cell_type": "code",
   "execution_count": 2,
   "metadata": {},
   "outputs": [
    {
     "name": "stdout",
     "output_type": "stream",
     "text": [
      "   temperature gender  heart_rate\n",
      "0         99.3      F        68.0\n",
      "1         98.4      F        81.0\n",
      "2         97.8      M        73.0\n",
      "3         99.2      F        66.0\n",
      "4         98.0      F        73.0\n",
      " \n",
      "     temperature gender  heart_rate\n",
      "125         96.3      M        70.0\n",
      "126         97.7      M        77.0\n",
      "127         98.2      F        73.0\n",
      "128         97.9      M        72.0\n",
      "129         98.7      F        59.0\n",
      " \n",
      "<class 'pandas.core.frame.DataFrame'>\n",
      "RangeIndex: 130 entries, 0 to 129\n",
      "Data columns (total 3 columns):\n",
      "temperature    130 non-null float64\n",
      "gender         130 non-null object\n",
      "heart_rate     130 non-null float64\n",
      "dtypes: float64(2), object(1)\n",
      "memory usage: 3.1+ KB\n"
     ]
    }
   ],
   "source": [
    "# Initial EDA: look at dataframe structure, \n",
    "# then look at histogram and boxplot of each variable.\n",
    "print(df.head())\n",
    "print(' ')\n",
    "print(df.tail())\n",
    "print(' ')\n",
    "df.info()"
   ]
  },
  {
   "cell_type": "code",
   "execution_count": 47,
   "metadata": {},
   "outputs": [
    {
     "data": {
      "image/png": "[encoded data removed]",
      "text/plain": [
       "<matplotlib.figure.Figure at 0x1a19108240>"
      ]
     },
     "metadata": {},
     "output_type": "display_data"
    },
    {
     "name": "stdout",
     "output_type": "stream",
     "text": [
      "# of females:  65 # of males:  65\n"
     ]
    }
   ],
   "source": [
    "plt.hist(df['gender'],bins=3)\n",
    "plt.show()\n",
    "females = df[df['gender'] == 'F']\n",
    "males = df[df['gender'] == 'M']\n",
    "print('# of females: ',len(females), '# of males: ',len(males))"
   ]
  },
  {
   "cell_type": "code",
   "execution_count": 73,
   "metadata": {},
   "outputs": [
    {
     "data": {
      "image/png": "[encoded data removed]",
      "text/plain": [
       "<matplotlib.figure.Figure at 0x1a109628d0>"
      ]
     },
     "metadata": {},
     "output_type": "display_data"
    },
    {
     "name": "stdout",
     "output_type": "stream",
     "text": [
      "mean temperature:  98.24923076923078\n",
      "sample std deviation:  0.7303577789050377\n",
      "sample - 2 std deviations:  98.23462361365267\n",
      "sample + 2 std deviations:  98.26383792480888\n"
     ]
    }
   ],
   "source": [
    "mean_temp = np.mean(df.temperature)\n",
    "std_temp = np.std(df.temperature)\n",
    "plt.subplot(1,2,1)\n",
    "plt.xlabel('temperature')\n",
    "plt.ylabel('count')\n",
    "plt.hist(df['temperature'],bins=12,normed=True)\n",
    "plt.subplot(1,2,2)\n",
    "plt.ylabel('temperature')\n",
    "plt.boxplot(df['temperature'])\n",
    "plt.tight_layout()\n",
    "\n",
    "plt.show()\n",
    "print(\"mean temperature: \", mean_temp)\n",
    "print(\"sample std deviation: \",std_temp)\n",
    "print(\"sample - 2 std deviations: \", (mean_temp-2*std_temp/100))\n",
    "print(\"sample + 2 std deviations: \", (mean_temp+2*std_temp/100))"
   ]
  },
  {
   "cell_type": "code",
   "execution_count": 5,
   "metadata": {},
   "outputs": [
    {
     "data": {
      "image/png": "[encoded data removed]",
      "text/plain": [
       "<matplotlib.figure.Figure at 0x1a18f2d518>"
      ]
     },
     "metadata": {},
     "output_type": "display_data"
    },
    {
     "name": "stdout",
     "output_type": "stream",
     "text": [
      "mean heart rate:  73.76153846153846\n"
     ]
    }
   ],
   "source": [
    "\n",
    "plt.subplot(1,2,1)\n",
    "plt.hist(df['heart_rate'], bins=12, normed=True)\n",
    "plt.xlabel('heart_rate')\n",
    "plt.ylabel('count')\n",
    "plt.subplot(1,2,2)\n",
    "plt.boxplot(df['heart_rate'])\n",
    "plt.ylabel('heart_rate')\n",
    "plt.tight_layout()\n",
    "plt.show()\n",
    "print(\"mean heart rate: \",np.mean(df.heart_rate))"
   ]
  },
  {
   "cell_type": "markdown",
   "metadata": {},
   "source": [
    "**1. Is the distribution of body temperatures normal?**\n",
    "-----\n",
    "Body temp distribution appears normal.  Roughly bell shaped, symetrical.  Although the small sample size might distort it a bit.  \n",
    "Re-draw the histogram with a line curve over it.  Also, draw ecdf for the data, and for a normal distrtibution to show it visually appears similar:"
   ]
  },
  {
   "cell_type": "code",
   "execution_count": 6,
   "metadata": {},
   "outputs": [
    {
     "data": {
      "image/png": "[encoded data removed]",
      "text/plain": [
       "<matplotlib.figure.Figure at 0x1a1906c320>"
      ]
     },
     "metadata": {},
     "output_type": "display_data"
    }
   ],
   "source": [
    "# left side graph: seaborn distplot draws a histogram with a line curve\n",
    "plt.subplot(1,2,1)\n",
    "sns.distplot(df['temperature'])\n",
    "plt.xlabel('temperature')\n",
    "plt.ylabel('count')\n",
    "\n",
    "# --------\n",
    "\n",
    "plt.subplot(1,2,2)\n",
    "def ecdf(data):\n",
    "    \"\"\"Compute ECDF for a one-dimensional array of measurements.\"\"\"\n",
    "    n = len(data)\n",
    "    x = np.sort(data)\n",
    "    y = np.arange(1, n+1) / n\n",
    "    return x, y\n",
    "\n",
    "mu = np.mean(df['temperature'])  #mean temperature\n",
    "sigma = np.std(df['temperature'])  #standard deviation of temperature\n",
    "samples = np.random.normal(mu, sigma, size=1000)\n",
    "\n",
    "# get ECDF of data, and of the samples\n",
    "x_theor, y_theor = ecdf(samples)\n",
    "x, y = ecdf(df['temperature'])\n",
    "\n",
    "# plot the CDFs\n",
    "_ = plt.plot(x_theor, y_theor)\n",
    "_ = plt.plot(x, y, marker='.', linestyle='none')\n",
    "plt.margins(0.02)\n",
    "_ = plt.xlabel('temperature')\n",
    "_ = plt.ylabel('CDF')\n",
    "plt.tight_layout()\n",
    "plt.show()"
   ]
  },
  {
   "cell_type": "code",
   "execution_count": 7,
   "metadata": {},
   "outputs": [
    {
     "name": "stdout",
     "output_type": "stream",
     "text": [
      "Let's compare the samples to see if 68% fall within 1 std\n",
      "[ 96.7225  97.564   98.3     98.836   99.4775]\n",
      "[ 96.7409286   97.4910753   98.22629278  98.99517101  99.68435463]\n"
     ]
    }
   ],
   "source": [
    "print(\"Let's compare the samples to see if 68% fall within 1 std\")  \n",
    "print(np.percentile([df.temperature],[2.5,16,50,84,97.5]))\n",
    "print(np.percentile(samples,[2.5,16,50,84,97.5]))"
   ]
  },
  {
   "cell_type": "markdown",
   "metadata": {},
   "source": [
    "**2. Is the sample size large? Are the observations independent?**\n",
    "----\n",
    "*Sample size is small, given that the population is billions of people.  30 is the minimum for a t test or a z test, so it is sufficient.  \n",
    "-----\n",
    "There is no evidence that the observations are independent.  It is likely that the body temp and pulse rate were taken at from the same individual at the same time, so there may be some dependence.  Also, I do not know if the occurances were random, or even different people.  They may all be from a small group of people (at least two, since some are Male, some Female.)*"
   ]
  },
  {
   "cell_type": "markdown",
   "metadata": {},
   "source": [
    "** 3. Is the true population mean really 98.6 degrees F?\n",
    "Would you use a one-sample or two-sample test? Why?  \n",
    "In this situation, is it appropriate to use the  tt  or  zz  statistic?\n",
    "Now try using the other test. How is the result be different? Why?**\n",
    "-----\n",
    "*I'd use one sample test, because data only has one variable: temperature.\n",
    "I estimate the data has normal distribution, but the population Std Dev is unknown, so I'll start with the t-test.  \n",
    "Null hypothesis: population mean is 98.6; attempt to show that our data supports this.*"
   ]
  },
  {
   "cell_type": "markdown",
   "metadata": {
    "collapsed": true
   },
   "source": [
    "Perform a t-test to find the t-value.\n",
    "We will use formula:  t = ( x̄ - mu) / (std / √n ).\n",
    "Then perform a z-test, using formula: z = x̄"
   ]
  },
  {
   "cell_type": "code",
   "execution_count": 16,
   "metadata": {},
   "outputs": [
    {
     "name": "stdout",
     "output_type": "stream",
     "text": [
      "mean temperature:  98.24923076923078\n",
      "standard dev:  0.7303577789050377\n",
      "t-value:  -5.475925202078116\n"
     ]
    }
   ],
   "source": [
    "#calculate the t statistic\n",
    "# t_value = ( mu - population mean ) / ( sigma / √len(sample) )\n",
    "mu = np.mean(df['temperature'])  #mean temperature\n",
    "sigma = np.std(df['temperature'])  #standard deviation of temperature\n",
    "t_value = ( mu - 98.6 ) / ( sigma / (len (df['temperature'])**0.5) )\n",
    "print('mean temperature: ', mu)\n",
    "print('standard dev: ',sigma)\n",
    "print('t-value: ', t_value)"
   ]
  },
  {
   "cell_type": "code",
   "execution_count": 34,
   "metadata": {},
   "outputs": [
    {
     "name": "stdout",
     "output_type": "stream",
     "text": [
      "z_value:  -5.47592520208\n",
      "p-value:  0.0\n"
     ]
    }
   ],
   "source": [
    "# calculate the z statistic\n",
    "# estimate population STD DEV by bootstrapping\n",
    "# z_value = ( mu - population mean ) / sigma\n",
    "\n",
    "# Define bootstrapping functions\n",
    "def bootstrap_replicate_1d(data, func):\n",
    "    \"\"\"Draw one bootstrap replicate for a 1-d array of data\"\"\"\n",
    "    return func(np.random.choice(data, size=len(data)))\n",
    "def draw_bs_reps(data, func, size=1):\n",
    "    \"\"\"Draw (size) number of bootstrap replicates.\"\"\"\n",
    "    bs_replicates = np.empty(size)\n",
    "    for i in range(size):\n",
    "        bs_replicates[i] = bootstrap_replicate_1d(data, func)\n",
    "    return bs_replicates\n",
    "\n",
    "temp_shifted = df.temperature - np.mean(df.temperature) + 98.6\n",
    "\n",
    "def z_stat(data, mu=98.6, sigma=0.7303577789050377):\n",
    "    return (np.mean(data)-mu) / (sigma / np.sqrt(len(data)))\n",
    "\n",
    "z_obs = z_stat(df.temperature, 98.6)\n",
    "\n",
    "bs_z_reps = draw_bs_reps(temp_shifted, z_stat, size=10000)\n",
    "\n",
    "p_z_value = np.sum(np.abs(bs_z_reps) >= np.abs(z_obs)) / len(bs_z_reps)\n",
    "\n",
    "print('z_value: ', z_obs)\n",
    "print('p-value: ', p_z_value)"
   ]
  },
  {
   "cell_type": "markdown",
   "metadata": {},
   "source": [
    "note: z-value is close to t_value.  98.6 is more than 5 standard deviations away from the sample mean.  Most likely, 98.6 is not the correct population mean.  (Or, possibly, our sample is not a good representation.)  The p-value is 0, showing about a 0 chance that 98.6 is the population mean, given our sample data."
   ]
  },
  {
   "cell_type": "markdown",
   "metadata": {},
   "source": [
    "**4. Draw a small sample of size 10 from the data and repeat both tests.\n",
    "Which one is the correct one to use?\n",
    "What do you notice? What does this tell you about the difference in application of the  tt  and  zz  statistic?**\n",
    "------\n"
   ]
  },
  {
   "cell_type": "code",
   "execution_count": 40,
   "metadata": {},
   "outputs": [
    {
     "name": "stdout",
     "output_type": "stream",
     "text": [
      "z_value:  -1.60201310653\n",
      "p-value:  0.0552\n",
      "t-value:  -1.92849632387\n"
     ]
    }
   ],
   "source": [
    "#get a random sample of 10 observations:\n",
    "np.random.seed(282)\n",
    "rand_samp_temp = np.random.choice(df['temperature'], size=10)\n",
    "\n",
    "# t-test is most appropriate when we have such a small sample, but we'll perform both.\n",
    "# First, the z-test:\n",
    "temp_shifted = rand_samp_temp - np.mean(rand_samp_temp) + 98.6\n",
    "\n",
    "z_obs = z_stat(rand_samp_temp, 98.6)\n",
    "\n",
    "bs_z_reps = draw_bs_reps(temp_shifted, z_stat, size=10000)\n",
    "\n",
    "p_z_value = np.sum(np.abs(bs_z_reps) >= np.abs(z_obs)) / len(bs_z_reps)\n",
    "\n",
    "print('z_value: ', z_obs)\n",
    "print('p-value: ', p_z_value)\n",
    "\n",
    "# next, the t-test:\n",
    "# t_value = ( mu - population mean ) / ( sigma / √len(sample) )\n",
    "mu = np.mean(rand_samp_temp)  #mean temperature\n",
    "sigma = np.std(rand_samp_temp)  #standard deviation of temperature\n",
    "t_value = ( mu - 98.6 ) / ( sigma / (len (rand_samp_temp)**0.5) )\n",
    "print('t-value: ', t_value)"
   ]
  },
  {
   "cell_type": "markdown",
   "metadata": {},
   "source": [
    "both of these show a much closer result.  They would one to believe the data supports 98.6 as a possible population mean. "
   ]
  },
  {
   "cell_type": "markdown",
   "metadata": {},
   "source": [
    "**5. At what temperature should we consider someone's temperature to be \"abnormal\"?\n",
    "Start by computing the margin of error and confidence interval.**\n",
    "-----"
   ]
  },
  {
   "cell_type": "code",
   "execution_count": 42,
   "metadata": {},
   "outputs": [
    {
     "name": "stdout",
     "output_type": "stream",
     "text": [
      "95% of the data fall between:  96.7225  and  99.4775 deg F\n"
     ]
    }
   ],
   "source": [
    "confidence_i = np.percentile(df.temperature, [2.5, 97.5])\n",
    "print('95% of the data fall between: ', confidence_i[0], ' and ', confidence_i[1], 'deg F')"
   ]
  },
  {
   "cell_type": "markdown",
   "metadata": {},
   "source": [
    "**6. Is there a significant difference between males and females in normal temperature?\n",
    "What test did you use and why?\n",
    "Write a story with your conclusion in the context of the original problem.**\n",
    "-----"
   ]
  },
  {
   "cell_type": "code",
   "execution_count": 69,
   "metadata": {},
   "outputs": [
    {
     "name": "stdout",
     "output_type": "stream",
     "text": [
      "# of females:  65 # of males:  65\n",
      "female temperature mean:  98.39384615384613 deg. F  and std:  0.7377464486428966\n",
      "male temperature mean:  98.1046153846154 deg. F  and std:  0.6933598841828696\n"
     ]
    },
    {
     "data": {
      "image/png": "[encoded data removed]",
      "text/plain": [
       "<matplotlib.figure.Figure at 0x1a1a08add8>"
      ]
     },
     "metadata": {},
     "output_type": "display_data"
    }
   ],
   "source": [
    "# Separate observations by gender\n",
    "females = df[df['gender'] == 'F']\n",
    "males = df[df['gender'] == 'M']\n",
    "\n",
    "# Basics \n",
    "print('# of females: ',len(females), '# of males: ',len(males))\n",
    "f_mean = np.mean(females.temperature)\n",
    "f_std = np.std(females.temperature)\n",
    "m_mean = np.mean(males.temperature)\n",
    "m_std = np.std(males.temperature)\n",
    "print('female temperature mean: ', f_mean, 'deg. F', ' and std: ', f_std)\n",
    "print('male temperature mean: ', m_mean, 'deg. F', ' and std: ', m_std)\n",
    "\n",
    "# Show ecdfs\n",
    "x_female, y_female = ecdf(females.temperature)\n",
    "x_male, y_male = ecdf(males.temperature)\n",
    "fig = plt.figure(figsize=(8, 10))\n",
    "_ = plt.subplot(2,1,1)\n",
    "_ = plt.hist(females['temperature'], bins=15, normed=True, histtype='step')\n",
    "_ = plt.hist(males['temperature'], bins=15, normed=True, histtype='step')\n",
    "_ = plt.xlabel('Temperature (deg F)')\n",
    "_ = plt.ylabel('PDF')\n",
    "_ = plt.legend(('females', 'males'))\n",
    "\n",
    "_ = plt.subplot(2,1,2)\n",
    "_ = plt.plot(x_female, y_female, marker='.', linestyle='none')\n",
    "_ = plt.plot(x_male, y_male, marker='.', linestyle='none')\n",
    "_ = plt.ylabel('ECDF')\n",
    "_ = plt.xlabel('Temperature (deg F)')\n",
    "_ = plt.legend(('females', 'males'))\n",
    "plt.show()\n"
   ]
  },
  {
   "cell_type": "code",
   "execution_count": 74,
   "metadata": {},
   "outputs": [
    {
     "name": "stdout",
     "output_type": "stream",
     "text": [
      "observed difference: 0.289230769230727 deg. F\n",
      "p-value: 0.0273\n"
     ]
    }
   ],
   "source": [
    "# NULL hypothesis: male and female distributions are equal\n",
    "def diff_of_means(data_1, data_2):\n",
    "    return np.mean(data_1) - np.mean(data_2)\n",
    "\n",
    "# Compute test statistic for observed data\n",
    "diff_obs = diff_of_means(females['temperature'], males['temperature'])\n",
    "\n",
    "# Draw permutation replicates\n",
    "perm_replicates = np.empty(10000)\n",
    "for i in range(len(perm_replicates)): \n",
    "    # Permute the data\n",
    "    both = np.concatenate((females['temperature'], males['temperature']))\n",
    "    both_perm = np.random.permutation(both)\n",
    "    perm_females = both_perm[:len(females)]\n",
    "    perm_males = both_perm[len(females):]\n",
    "    #Draw replicates\n",
    "    perm_replicates[i] = diff_of_means(perm_females, perm_males)\n",
    "\n",
    "# Compute the p-value\n",
    "p_value = np.sum(abs(perm_replicates) >= abs(diff_obs)) / len(perm_replicates)\n",
    "\n",
    "print('observed difference:',diff_obs, 'deg. F' )\n",
    "print('p-value:',p_value)"
   ]
  },
  {
   "cell_type": "markdown",
   "metadata": {},
   "source": [
    "ECDF graphs show that the male and female samples are different.  \n",
    "We observe a difference of 0.29 deg F.  The p-value is low, indicating a statistically significant difference between the two samples."
   ]
  },
  {
   "cell_type": "markdown",
   "metadata": {},
   "source": [
    "**CONCLUSION**\n",
    "*Carl Wonderlich observed an average body temperature of 98.6 deg F.  \n",
    "However, our data suggests that he is incorrect.  We find mean body temp to be 98.25, with 95% of observations between 98.23 and 98.26 deg F.  We also found a significant difference between male and female samples.  Females are about 0.29 deg F warmer.  \n",
    "Carl Wonderlich's observed temperature is much warmer, and unlikely to be correct.*"
   ]
  }
 ],
 "metadata": {
  "kernelspec": {
   "display_name": "Python 3",
   "language": "python",
   "name": "python3"
  },
  "language_info": {
   "codemirror_mode": {
    "name": "ipython",
    "version": 3
   },
   "file_extension": ".py",
   "mimetype": "text/x-python",
   "name": "python",
   "nbconvert_exporter": "python",
   "pygments_lexer": "ipython3",
   "version": "3.6.3"
  }
 },
 "nbformat": 4,
 "nbformat_minor": 1
}

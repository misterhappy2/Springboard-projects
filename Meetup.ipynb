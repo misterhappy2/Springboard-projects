{
 "cells": [
  {
   "cell_type": "markdown",
   "metadata": {},
   "source": [
    "***\n",
    "<h3>MEETUP at GoPro HQ</h3>  \n",
    "*** \n",
    "Feb 15 2018, 6 pm.\n",
    "SF BIG ANALYTICS\n",
    "Stanford Professor Ermon: Learning with limited supervision  \n",
    "\n",
    "\n",
    "Professor Ermon gave a talk about Machine Learning, which helped me understand my Springboard curriculum better.  \n",
    "About 100 people attended, which surprised me.  I did not know so many people would want to hear about machine learning!   \n",
    "\n",
    "The best part was they left ample time for people to mingle.  In fact, that may be the main reason for the event.  They provided snacks and lots of space to meet and talk.  I met a few people who work in coding, but none in data science.  (Apparently they are interested in data science.)  I'm sure the data scientists were there also.  I need to learn to work a room.  \n",
    "I'll continue to attend such events, esp with this group \"SF Big Analytics\", and I'll meet people and look for opportunity for informational interviews.  "
   ]
  }
 ],
 "metadata": {
  "kernelspec": {
   "display_name": "Python 3",
   "language": "python",
   "name": "python3"
  },
  "language_info": {
   "codemirror_mode": {
    "name": "ipython",
    "version": 3
   },
   "file_extension": ".py",
   "mimetype": "text/x-python",
   "name": "python",
   "nbconvert_exporter": "python",
   "pygments_lexer": "ipython3",
   "version": "3.6.3"
  }
 },
 "nbformat": 4,
 "nbformat_minor": 2
}

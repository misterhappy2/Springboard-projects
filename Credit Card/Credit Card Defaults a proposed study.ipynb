{
 "cells": [
  {
   "cell_type": "markdown",
   "metadata": {},
   "source": [
    "***\n",
    "<h2>CREDIT CARD DEFAULTS</h2>  \n",
    "*** "
   ]
  },
  {
   "cell_type": "markdown",
   "metadata": {},
   "source": [
    "<h4> The Problem: </h4>  \n",
    "The health of the credit card industry is best measured not by the number of customers, but rather by the number who pay their bills.  High rates of defaults can cut into profits, or worse, can ruin a bank.  \n",
    "Banks want to keep accounts current.  They seek to minimize risk of any kind, but most of all defaults on loans.  \n",
    "Delinquencies were low in 2017 compared to history, but will very likely rise again if the economy worsens.  "
   ]
  },
  {
   "cell_type": "markdown",
   "metadata": {},
   "source": [
    "<h4> The Client: </h4>  \n",
    "If a bank could predict which clients were likely to default, they might avoid risk by: not extending additional credit, or by contacting at-risk clients to help or intervene.  \n",
    "But how can a bank know which clients will default?  Are there any clues?  \n",
    "We can examine data and find correlations among clients, and predict likely clients who might default. "
   ]
  },
  {
   "cell_type": "markdown",
   "metadata": {
    "collapsed": true
   },
   "source": [
    "<h4> The Data: </h4>  \n",
    "UC Irvine Machine Learning Repository has a file on credit card defaults from Taiwan in 2005.  https://archive.ics.uci.edu/ml/datasets/default+of+credit+card+clients\n",
    "The set of 30,000 includes whether the account defaulted in the next month, as well as demographic and account data, including: gender, marital status, education attained, age, amount of household credit, and 6 month history of credit balance, payments, and defaults.  "
   ]
  },
  {
   "cell_type": "markdown",
   "metadata": {},
   "source": [
    "<h4> Approach and Deliverables: </h4> \n",
    "I'll use the account history and the demographic data, and seek correlation to find the likelihood of future default.  I'll deliver a description of factors that increase likelihood of default.  \n",
    "I'll try a variety of analysis; I'm not sure yet what approach will give best results.  \n",
    "I expect my analysis can be repeated on a new dataset to help predict likelihood of default at any bank.  "
   ]
  }
 ],
 "metadata": {
  "kernelspec": {
   "display_name": "Python 3",
   "language": "python",
   "name": "python3"
  },
  "language_info": {
   "codemirror_mode": {
    "name": "ipython",
    "version": 3
   },
   "file_extension": ".py",
   "mimetype": "text/x-python",
   "name": "python",
   "nbconvert_exporter": "python",
   "pygments_lexer": "ipython3",
   "version": "3.6.4"
  }
 },
 "nbformat": 4,
 "nbformat_minor": 2
}

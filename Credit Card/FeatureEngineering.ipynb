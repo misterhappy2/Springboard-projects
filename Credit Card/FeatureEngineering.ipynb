{
 "cells": [
  {
   "cell_type": "markdown",
   "metadata": {},
   "source": [
    "\n",
    "CREDIT CARD DEFAULTS\n",
    "current goals:\n",
    "\n",
    "Feature Engineering:\n",
    "1: drop ID var. DONE.\n",
    "2: instead of using df, create a copy and work on the copy. DONE.\n",
    "3: standardize before regression. DONE.\n",
    "4: use log for any money variables. PAY DONE. BILL...\n",
    "5: pay increase could be amount, not just binary.\n",
    "6: calculate percentage a user pays on the bill. 7: Train with L1 regularization\n",
    "8: use model.featureimportances to rank the features. DONE 9: make buckets instead of money DONE\n",
    "\n",
    "git add file.ipynb\n",
    "git commit -m 'reason for update'\n",
    "git push origin master"
   ]
  },
  {
   "cell_type": "code",
   "execution_count": 101,
   "metadata": {},
   "outputs": [
    {
     "data": {
      "text/html": [
       "<div>\n",
       "<style>\n",
       "    .dataframe thead tr:only-child th {\n",
       "        text-align: right;\n",
       "    }\n",
       "\n",
       "    .dataframe thead th {\n",
       "        text-align: left;\n",
       "    }\n",
       "\n",
       "    .dataframe tbody tr th {\n",
       "        vertical-align: top;\n",
       "    }\n",
       "</style>\n",
       "<table border=\"1\" class=\"dataframe\">\n",
       "  <thead>\n",
       "    <tr style=\"text-align: right;\">\n",
       "      <th></th>\n",
       "      <th>ID</th>\n",
       "      <th>LIMIT_BAL</th>\n",
       "      <th>SEX</th>\n",
       "      <th>EDUCATION</th>\n",
       "      <th>MARRIAGE</th>\n",
       "      <th>AGE</th>\n",
       "      <th>PAY_0</th>\n",
       "      <th>PAY_2</th>\n",
       "      <th>PAY_3</th>\n",
       "      <th>PAY_4</th>\n",
       "      <th>...</th>\n",
       "      <th>BILL_AMT4</th>\n",
       "      <th>BILL_AMT5</th>\n",
       "      <th>BILL_AMT6</th>\n",
       "      <th>PAY_AMT1</th>\n",
       "      <th>PAY_AMT2</th>\n",
       "      <th>PAY_AMT3</th>\n",
       "      <th>PAY_AMT4</th>\n",
       "      <th>PAY_AMT5</th>\n",
       "      <th>PAY_AMT6</th>\n",
       "      <th>default payment next month</th>\n",
       "    </tr>\n",
       "  </thead>\n",
       "  <tbody>\n",
       "    <tr>\n",
       "      <th>0</th>\n",
       "      <td>1</td>\n",
       "      <td>20000</td>\n",
       "      <td>2</td>\n",
       "      <td>2</td>\n",
       "      <td>1</td>\n",
       "      <td>24</td>\n",
       "      <td>2</td>\n",
       "      <td>2</td>\n",
       "      <td>-1</td>\n",
       "      <td>-1</td>\n",
       "      <td>...</td>\n",
       "      <td>0</td>\n",
       "      <td>0</td>\n",
       "      <td>0</td>\n",
       "      <td>0</td>\n",
       "      <td>689</td>\n",
       "      <td>0</td>\n",
       "      <td>0</td>\n",
       "      <td>0</td>\n",
       "      <td>0</td>\n",
       "      <td>1</td>\n",
       "    </tr>\n",
       "    <tr>\n",
       "      <th>1</th>\n",
       "      <td>2</td>\n",
       "      <td>120000</td>\n",
       "      <td>2</td>\n",
       "      <td>2</td>\n",
       "      <td>2</td>\n",
       "      <td>26</td>\n",
       "      <td>-1</td>\n",
       "      <td>2</td>\n",
       "      <td>0</td>\n",
       "      <td>0</td>\n",
       "      <td>...</td>\n",
       "      <td>3272</td>\n",
       "      <td>3455</td>\n",
       "      <td>3261</td>\n",
       "      <td>0</td>\n",
       "      <td>1000</td>\n",
       "      <td>1000</td>\n",
       "      <td>1000</td>\n",
       "      <td>0</td>\n",
       "      <td>2000</td>\n",
       "      <td>1</td>\n",
       "    </tr>\n",
       "    <tr>\n",
       "      <th>2</th>\n",
       "      <td>3</td>\n",
       "      <td>90000</td>\n",
       "      <td>2</td>\n",
       "      <td>2</td>\n",
       "      <td>2</td>\n",
       "      <td>34</td>\n",
       "      <td>0</td>\n",
       "      <td>0</td>\n",
       "      <td>0</td>\n",
       "      <td>0</td>\n",
       "      <td>...</td>\n",
       "      <td>14331</td>\n",
       "      <td>14948</td>\n",
       "      <td>15549</td>\n",
       "      <td>1518</td>\n",
       "      <td>1500</td>\n",
       "      <td>1000</td>\n",
       "      <td>1000</td>\n",
       "      <td>1000</td>\n",
       "      <td>5000</td>\n",
       "      <td>0</td>\n",
       "    </tr>\n",
       "    <tr>\n",
       "      <th>3</th>\n",
       "      <td>4</td>\n",
       "      <td>50000</td>\n",
       "      <td>2</td>\n",
       "      <td>2</td>\n",
       "      <td>1</td>\n",
       "      <td>37</td>\n",
       "      <td>0</td>\n",
       "      <td>0</td>\n",
       "      <td>0</td>\n",
       "      <td>0</td>\n",
       "      <td>...</td>\n",
       "      <td>28314</td>\n",
       "      <td>28959</td>\n",
       "      <td>29547</td>\n",
       "      <td>2000</td>\n",
       "      <td>2019</td>\n",
       "      <td>1200</td>\n",
       "      <td>1100</td>\n",
       "      <td>1069</td>\n",
       "      <td>1000</td>\n",
       "      <td>0</td>\n",
       "    </tr>\n",
       "    <tr>\n",
       "      <th>4</th>\n",
       "      <td>5</td>\n",
       "      <td>50000</td>\n",
       "      <td>1</td>\n",
       "      <td>2</td>\n",
       "      <td>1</td>\n",
       "      <td>57</td>\n",
       "      <td>-1</td>\n",
       "      <td>0</td>\n",
       "      <td>-1</td>\n",
       "      <td>0</td>\n",
       "      <td>...</td>\n",
       "      <td>20940</td>\n",
       "      <td>19146</td>\n",
       "      <td>19131</td>\n",
       "      <td>2000</td>\n",
       "      <td>36681</td>\n",
       "      <td>10000</td>\n",
       "      <td>9000</td>\n",
       "      <td>689</td>\n",
       "      <td>679</td>\n",
       "      <td>0</td>\n",
       "    </tr>\n",
       "  </tbody>\n",
       "</table>\n",
       "<p>5 rows × 25 columns</p>\n",
       "</div>"
      ],
      "text/plain": [
       "   ID  LIMIT_BAL  SEX  EDUCATION  MARRIAGE  AGE  PAY_0  PAY_2  PAY_3  PAY_4  \\\n",
       "0   1      20000    2          2         1   24      2      2     -1     -1   \n",
       "1   2     120000    2          2         2   26     -1      2      0      0   \n",
       "2   3      90000    2          2         2   34      0      0      0      0   \n",
       "3   4      50000    2          2         1   37      0      0      0      0   \n",
       "4   5      50000    1          2         1   57     -1      0     -1      0   \n",
       "\n",
       "              ...              BILL_AMT4  BILL_AMT5  BILL_AMT6  PAY_AMT1  \\\n",
       "0             ...                      0          0          0         0   \n",
       "1             ...                   3272       3455       3261         0   \n",
       "2             ...                  14331      14948      15549      1518   \n",
       "3             ...                  28314      28959      29547      2000   \n",
       "4             ...                  20940      19146      19131      2000   \n",
       "\n",
       "   PAY_AMT2  PAY_AMT3  PAY_AMT4  PAY_AMT5  PAY_AMT6  \\\n",
       "0       689         0         0         0         0   \n",
       "1      1000      1000      1000         0      2000   \n",
       "2      1500      1000      1000      1000      5000   \n",
       "3      2019      1200      1100      1069      1000   \n",
       "4     36681     10000      9000       689       679   \n",
       "\n",
       "   default payment next month  \n",
       "0                           1  \n",
       "1                           1  \n",
       "2                           0  \n",
       "3                           0  \n",
       "4                           0  \n",
       "\n",
       "[5 rows x 25 columns]"
      ]
     },
     "execution_count": 101,
     "metadata": {},
     "output_type": "execute_result"
    }
   ],
   "source": [
    "import csv\n",
    "import pandas as pd\n",
    "import numpy as np\n",
    "import matplotlib.pyplot as plt\n",
    "import seaborn as sns\n",
    "from scipy import stats\n",
    "from sklearn.preprocessing import scale, StandardScaler\n",
    "from sklearn.pipeline import Pipeline\n",
    "from sklearn import metrics\n",
    "from sklearn.model_selection import cross_val_score,cross_validate, KFold\n",
    "from sklearn.model_selection import train_test_split\n",
    "\n",
    "cc_file = '/Users/brentmarijensen/desktop/credit_card.xls'\n",
    "df = pd.read_excel(cc_file,header=1)\n",
    "df.head(5)"
   ]
  },
  {
   "cell_type": "code",
   "execution_count": 102,
   "metadata": {},
   "outputs": [
    {
     "name": "stderr",
     "output_type": "stream",
     "text": [
      "/Users/brentmarijensen/anaconda3/lib/python3.6/site-packages/sklearn/utils/validation.py:475: DataConversionWarning: Data with input dtype int64 was converted to float64 by the scale function.\n",
      "  warnings.warn(msg, DataConversionWarning)\n"
     ]
    }
   ],
   "source": [
    "# Clean up data, as described in CreditCardEDA.  Remove invalid numbers.\n",
    "clean_df = df\n",
    "clean_df = clean_df.drop('ID', axis=1)\n",
    "\n",
    "# valid EDUCATION codes are 1,2,3,4.  Change other codes to 4, meaning \"others.\"\n",
    "for i in range (len(clean_df)):\n",
    "    if clean_df['EDUCATION'][i] < 1:\n",
    "        clean_df['EDUCATION'][i] = 4\n",
    "    elif clean_df['EDUCATION'][i] > 4:\n",
    "        clean_df['EDUCATION'][i] = 4\n",
    "        \n",
    "# valid MARRIAGE codes are 1,2,3.  Change other codes to 3, meaning \"other.\"\n",
    "for i in range (len(clean_df)):\n",
    "    if clean_df['MARRIAGE'][i] < 1:\n",
    "        clean_df['MARRIAGE'][i] = 3     \n",
    "        \n",
    "# PAY_1 to PAY_6.  Change column name PAY_0 to PAY_1\n",
    "# change negative entries to 0, indicating 0 months behind.  \n",
    "# a positive integer represents the number of months behind.\n",
    "clean_df=clean_df.rename(columns = {'PAY_0':'PAY_1'})\n",
    "vars = ['PAY_1', 'PAY_2', 'PAY_3', 'PAY_4', 'PAY_5', 'PAY_6']\n",
    "for i in range (len(clean_df)):\n",
    "    for var in vars:\n",
    "        if clean_df[var][i]<0:\n",
    "            clean_df[var][i] = 0  \n",
    "            \n",
    "# Standardize the data frame, and create X for predictor variables, y for target\n",
    "X = clean_df.drop('default payment next month', axis=1).values\n",
    "y = clean_df['default payment next month'].values\n",
    "X_scaled = scale(X)\n",
    "target = 'default payment next month'"
   ]
  },
  {
   "cell_type": "markdown",
   "metadata": {},
   "source": [
    "BASELINE SCORE:\n",
    "Explore correlation with only two predictor variables: (start with 'PAY_1' and 'PAY_2' the most recent months pay history.) The obvious predictor of default is the most recent payment. If an account defaulted last month, it is more likely to default again.\n",
    "This will be my baseline.\n",
    "Hopefully, I can train a model to improve on it.\n",
    "Note that the most important score is RECALL, because it includes false negatives (the case where I predict no default, but a default occurs.) 34% is not good. It appears that this model always predicts negative (account will NOT default.)"
   ]
  },
  {
   "cell_type": "code",
   "execution_count": 103,
   "metadata": {},
   "outputs": [
    {
     "name": "stdout",
     "output_type": "stream",
     "text": [
      "average cross-val score:  0.771767414199\n",
      "precision:  0.468343844735\n",
      "recall score:  0.525392986699\n",
      "Confusion matrix: \n",
      " TN  FP\n",
      " FN  TP\n",
      "[[4975  871]\n",
      " [ 785  869]]\n",
      "             precision    recall  f1-score   support\n",
      "\n",
      "          0       0.86      0.85      0.86      5846\n",
      "          1       0.50      0.53      0.51      1654\n",
      "\n",
      "avg / total       0.78      0.78      0.78      7500\n",
      "\n"
     ]
    }
   ],
   "source": [
    "from sklearn.model_selection import cross_validate\n",
    "from sklearn.linear_model import LogisticRegression\n",
    "from sklearn.metrics import recall_score\n",
    "from sklearn.metrics import classification_report\n",
    "\n",
    "vars = ['PAY_1','PAY_2','PAY_3']\n",
    "\n",
    "X = clean_df[vars].values\n",
    "y = clean_df['default payment next month'].values\n",
    "clf = LogisticRegression(random_state=22,class_weight='balanced')\n",
    "clf.fit(X,y)\n",
    "overall_score = cross_val_score(clf, X, y, cv=5)\n",
    "scoring = ['average_precision','recall']\n",
    "scores = cross_validate(clf, X, y, scoring=scoring, cv=5, return_train_score=False)\n",
    "\n",
    "print('average cross-val score: ', overall_score.mean())\n",
    "print('precision: ',scores['test_average_precision'].mean())\n",
    "\n",
    "# Use train test split to find confusion matrix and classification report.\n",
    "X = clean_df[vars].values\n",
    "y = clean_df['default payment next month'].values\n",
    "X_train,X_test,y_train,y_test = train_test_split(X,y)\n",
    "clf = LogisticRegression(random_state=22,class_weight='balanced')\n",
    "clf.fit(X_train,y_train)\n",
    "pred_logreg = clf.predict(X_test)\n",
    "recall_pay_only = metrics.recall_score(y_test,pred_logreg)\n",
    "print('recall score: ', recall_pay_only)\n",
    "confusion = metrics.confusion_matrix(y_test, pred_logreg)\n",
    "print(\"Confusion matrix: \")\n",
    "print(\" TN  FP\")\n",
    "print(\" FN  TP\")\n",
    "print(confusion)\n",
    "print(metrics.classification_report(y_test, pred_logreg))"
   ]
  },
  {
   "cell_type": "code",
   "execution_count": 84,
   "metadata": {},
   "outputs": [
    {
     "name": "stderr",
     "output_type": "stream",
     "text": [
      "/Users/brentmarijensen/anaconda3/lib/python3.6/site-packages/sklearn/utils/validation.py:475: DataConversionWarning: Data with input dtype int64 was converted to float64 by the scale function.\n",
      "  warnings.warn(msg, DataConversionWarning)\n"
     ]
    },
    {
     "name": "stdout",
     "output_type": "stream",
     "text": [
      "recall score:  0.585546633725\n",
      "Confusion matrix: \n",
      " TN  FP\n",
      " FN  TP\n",
      "[[4961  920]\n",
      " [ 671  948]]\n",
      "             precision    recall  f1-score   support\n",
      "\n",
      "          0       0.88      0.84      0.86      5881\n",
      "          1       0.51      0.59      0.54      1619\n",
      "\n",
      "avg / total       0.80      0.79      0.79      7500\n",
      "\n"
     ]
    }
   ],
   "source": [
    "# Use train test split to find confusion matrix and classification report.\n",
    "X = clean_df.drop('default payment next month', axis=1).values\n",
    "X_scaled = scale(X)\n",
    "y = clean_df['default payment next month'].values\n",
    "X_train,X_test,y_train,y_test = train_test_split(X_scaled,y)\n",
    "clf = LogisticRegression(random_state=22,class_weight='balanced')\n",
    "clf.fit(X_train,y_train)\n",
    "pred_logreg = clf.predict(X_test)\n",
    "recall_pay_only = metrics.recall_score(y_test,pred_logreg)\n",
    "print('recall score: ', recall_pay_only)\n",
    "confusion = metrics.confusion_matrix(y_test, pred_logreg)\n",
    "print(\"Confusion matrix: \")\n",
    "print(\" TN  FP\")\n",
    "print(\" FN  TP\")\n",
    "print(confusion)\n",
    "print(metrics.classification_report(y_test, pred_logreg))"
   ]
  },
  {
   "cell_type": "markdown",
   "metadata": {},
   "source": [
    "<h3> Regression </h3>"
   ]
  },
  {
   "cell_type": "code",
   "execution_count": 104,
   "metadata": {},
   "outputs": [],
   "source": [
    "\"\"\"Perform Logistic regression with 10 fold cross validation. \n",
    "   Find overall score, and recall score.  Use scaled clean variables. \n",
    "   This will give us a base before feature engineering.\"\"\"\n",
    "\n",
    "from sklearn.model_selection import cross_validate\n",
    "from sklearn.linear_model import LogisticRegression\n",
    "from sklearn.metrics import recall_score\n",
    "\n",
    "def regress(data) :\n",
    "    X = data.drop('default payment next month', axis=1).values\n",
    "    X_scaled = scale(X)\n",
    "    y = data['default payment next month'].values\n",
    "    clf = LogisticRegression(random_state=22,class_weight='balanced')\n",
    "    clf.fit(X_scaled,y)\n",
    "    overall_score = cross_val_score(clf, X_scaled, y, cv=10)\n",
    "    print('average cross-val score: ', overall_score.mean())\n",
    "    scoring = ['average_precision','recall']\n",
    "    scores = cross_validate(clf, X_scaled, y, scoring=scoring, cv=10, return_train_score=False)\n",
    "    rec = scores['test_recall'].mean()\n",
    "    print('recall: ', rec)\n",
    "    print('precision: ',scores['test_average_precision'].mean())\n",
    "    return(clf, rec)"
   ]
  },
  {
   "cell_type": "code",
   "execution_count": 105,
   "metadata": {},
   "outputs": [
    {
     "name": "stderr",
     "output_type": "stream",
     "text": [
      "/Users/brentmarijensen/anaconda3/lib/python3.6/site-packages/sklearn/utils/validation.py:475: DataConversionWarning: Data with input dtype int64 was converted to float64 by the scale function.\n",
      "  warnings.warn(msg, DataConversionWarning)\n"
     ]
    },
    {
     "name": "stdout",
     "output_type": "stream",
     "text": [
      "average cross-val score:  0.778637046978\n",
      "recall:  0.562534981555\n",
      "precision:  0.52824604243\n",
      "recall:  0.562534981555\n",
      "coefficients: \n"
     ]
    },
    {
     "data": {
      "text/plain": [
       "array([[-0.18993393, -0.06518832, -0.04426256, -0.07530518,  0.05441789,\n",
       "         0.67984805,  0.06154043,  0.12539628,  0.0806658 ,  0.08059674,\n",
       "         0.10979474, -0.1265729 ,  0.12811524,  0.12417308, -0.00595097,\n",
       "        -0.03914086, -0.04108786, -0.17416287, -0.16907017, -0.02826555,\n",
       "        -0.03485133, -0.03144555, -0.03661152]])"
      ]
     },
     "execution_count": 105,
     "metadata": {},
     "output_type": "execute_result"
    }
   ],
   "source": [
    "x,recall_all_vars = regress(clean_df)\n",
    "print('recall: ', recall_all_vars)\n",
    "print('coefficients: ')\n",
    "x.coef_"
   ]
  },
  {
   "cell_type": "code",
   "execution_count": 106,
   "metadata": {},
   "outputs": [
    {
     "data": {
      "text/plain": [
       "Index(['LIMIT_BAL', 'SEX', 'EDUCATION', 'MARRIAGE', 'AGE', 'PAY_1', 'PAY_2',\n",
       "       'PAY_3', 'PAY_4', 'PAY_5', 'PAY_6', 'BILL_AMT1', 'BILL_AMT2',\n",
       "       'BILL_AMT3', 'BILL_AMT4', 'BILL_AMT5', 'BILL_AMT6', 'PAY_AMT1',\n",
       "       'PAY_AMT2', 'PAY_AMT3', 'PAY_AMT4', 'PAY_AMT5', 'PAY_AMT6',\n",
       "       'default payment next month'],\n",
       "      dtype='object')"
      ]
     },
     "execution_count": 106,
     "metadata": {},
     "output_type": "execute_result"
    }
   ],
   "source": [
    "clean_df.columns"
   ]
  },
  {
   "cell_type": "markdown",
   "metadata": {},
   "source": [
    "\n",
    "'PAY_1'0.67191543, 'PAY_AMT2'-0.19955438, 'LIMIT_BAL'0.19563216, 'BILL_AMT6'-0.19415022, 'BILL_AMT1'-0.1678047, 'PAY_AMT1'0.1663637, 'BILL_AMT3'0.11607663, 'PAY_6'0.11345496, 'PAY_3'0.09891314, MARRIAGE'-0.08077255, 'SEX'-0.06069104, 'EDUCATION'-0.05517782, ' 'AGE'0.0498408, 'PAY_AMT6'-0.0492414, 'PAY_AMT4'-0.04553867, 'PAY_2'0.03600229, 'BILL_AMT5'-0.03527273, 'PAY_5'0.06667127, 'PAY_4'0.05848997, PAY_AMT5'-0.04439538, 'PAY_AMT3'-0.03135918, 'BILL_AMT6'-0.00725595, 'BILL_AMT4'-0.00563409"
   ]
  },
  {
   "cell_type": "code",
   "execution_count": 44,
   "metadata": {},
   "outputs": [
    {
     "name": "stdout",
     "output_type": "stream",
     "text": [
      "average cross-val score:  0.782370491808\n",
      "recall:  0.561790147013\n",
      "precision:  0.520950106049\n"
     ]
    }
   ],
   "source": [
    "#Log Reg with unscaled data#Log Reg \n",
    "from sklearn.model_selection import cross_validate\n",
    "from sklearn.linear_model import LogisticRegression\n",
    "from sklearn.metrics import recall_score\n",
    "\n",
    "# Standardize the data frame, and create X for predictor variables, y for target\n",
    "X = clean_df.drop('default payment next month', axis=1).values\n",
    "y = clean_df['default payment next month'].values\n",
    "clf = LogisticRegression(random_state=22,class_weight='balanced')\n",
    "clf.fit(X,y)\n",
    "overall_score = cross_val_score(clf, X, y, cv=10)\n",
    "print('average cross-val score: ', overall_score.mean())\n",
    "scoring = ['average_precision','recall']\n",
    "scores = cross_validate(clf, X, y, scoring=scoring, cv=10, return_train_score=False)\n",
    "regress_recall = scores['test_recall'].mean()\n",
    "print('recall: ', regress_recall)\n",
    "print('precision: ',scores['test_average_precision'].mean())"
   ]
  },
  {
   "cell_type": "markdown",
   "metadata": {},
   "source": [
    "Using Log Reg on 'PAY_1', 'PAY_2', 'PAY_3', RECALL score was 0.55\n",
    "Using Log Reg with all variables yields RECALL 0.64!\n",
    "'PAY_1' 0.67191543 dominates, but other features have importance: \n",
    "    'LIMIT_BAL'-0.19563216, 'PAY_6'0.11345497, 'BILL_AMT1'-0.16780471, \n",
    "    'BILL_AMT2'0.16636369, 'BILL_AMT3'0.11607662, 'PAY_AMT1'-0.19415022 , \n",
    "    'PAY_AMT2'-0.19955438"
   ]
  },
  {
   "cell_type": "code",
   "execution_count": null,
   "metadata": {
    "collapsed": true
   },
   "outputs": [],
   "source": [
    "#GRADIENT BOOSTING CLASSIFIER (tree based classifier)\n",
    "from sklearn.ensemble import GradientBoostingClassifier\n",
    "from sklearn import metrics, cross_validation\n",
    "from sklearn.model_selection import cross_validate\n",
    "from sklearn.metrics import recall_score\n",
    "\n",
    "\"\"\"X = clean_df.drop('default payment next month', axis=1).values\n",
    "y = clean_df['default payment next month'].values\n",
    "param_grid = {'learning_rate': [0.01,0.1,1], 'n_estimators': [10,100,1000]}\n",
    "clf = GradientBoostingClassifier(random_state=22)\n",
    "gbc_cv = GridSearchCV(clf, param_grid, cv=5)\n",
    "gbc_cv.fit(X,y)\n",
    "print(gbc_cv.best_params_, gbc_cv.best_score_)\"\"\"\n",
    "\n",
    "def gradboost (data): \n",
    "    X = data.drop('default payment next month', axis=1).values\n",
    "    y = data['default payment next month'].values\n",
    "    clf = GradientBoostingClassifier(random_state=22)\n",
    "    clf.fit(X,y)\n",
    "    scoring = ['accuracy','average_precision','recall']\n",
    "    scores = cross_validate(clf, X, y, scoring=scoring, cv=10, return_train_score=False)\n",
    "    print('GBC mean accuracy: ', scores['test_accuracy'].mean())\n",
    "    print('GBC recall: ',scores['test_recall'].mean())\n",
    "    print('GBC precision: ',scores['test_average_precision'].mean()) \n",
    "    return(clf)\n",
    "#importances = clf.feature_importances_\n",
    "x=gradboost(clean_df)\n",
    "print('')\n",
    "print('feature_importances_')\n",
    "x.feature_importances_\n"
   ]
  },
  {
   "cell_type": "markdown",
   "metadata": {},
   "source": [
    "PAY_1':0.1466944, 'BILL_AMT1':0.14391388, 'BILL_AMT2':0.05944484, 'LIMIT_BAL':0.05584917, 'BILL_AMT3':0.05584334, 'PAY_AMT1'0.05522602, 'PAY_AMT2'0.04635262, 'BILL_AMT4':0.04576041, 'AGE':0.04249376, 'BILL_AMT6'0.03849269, 'PAY_2':0.03582236, 'PAY_AMT6'0.03533945, 'BILL_AMT5'0.03391295, 'PAY_AMT5'0.02994442, 'PAY_6':0.02882891, 'PAY_AMT3'0.02205736, 'EDUCATION':0.02103766, 'PAY_AMT4'0.02046777, 'PAY_3':0.01974212, 'PAY_5':0.01793303, 'MARRIAGE':0.01679349, 'PAY_4':0.01583666, 'SEX':0.01221269,\n",
    "\n",
    "From most to least important:\n",
    "'PAY_1' 0.1466944, 'BILL_AMT1' 0.14391388, 'BILL_AMT2' .05944484, 'LIMIT_BAL'0.05584917, 'BILL_AMT3'0.05584334, 'PAY_AMT1'0.05522602, 'PAY_AMT2'0.04635262, 'BILL_AMT4'0.04576041, 'AGE'0.04249376\n",
    "Using GBC, no single feature dominates. PAY1 and BILLAMT1 are equal, and the next 4 features are equal to each other."
   ]
  },
  {
   "cell_type": "code",
   "execution_count": 20,
   "metadata": {},
   "outputs": [],
   "source": [
    "#GRADIENT BOOSTING CLASSIFIER (tree based classifier)#GRADIEN \n",
    "from sklearn.ensemble import GradientBoostingClassifier\n",
    "from sklearn import metrics, cross_validation\n",
    "from sklearn.model_selection import cross_validate\n",
    "from sklearn.metrics import recall_score\n",
    "\n",
    "def gradboost (data): \n",
    "    X = data.drop('default payment next month', axis=1).values\n",
    "    X_scaled = scale(X)\n",
    "    y = data['default payment next month'].values\n",
    "    clf = GradientBoostingClassifier(random_state=22)\n",
    "    clf.fit(X,y)\n",
    "    scoring = ['accuracy','average_precision','recall']\n",
    "    scores = cross_validate(clf, X_scaled, y, scoring=scoring, cv=10, return_train_score=False)\n",
    "    print('GBC mean accuracy: ', scores['test_accuracy'].mean())\n",
    "    print('GBC recall: ',scores['test_recall'].mean())\n",
    "    print('GBC precision: ',scores['test_average_precision'].mean()) \n",
    "    return(clf)"
   ]
  },
  {
   "cell_type": "code",
   "execution_count": 22,
   "metadata": {},
   "outputs": [
    {
     "name": "stderr",
     "output_type": "stream",
     "text": [
      "/Users/brentmarijensen/anaconda3/lib/python3.6/site-packages/sklearn/utils/validation.py:475: DataConversionWarning: Data with input dtype int64 was converted to float64 by the scale function.\n",
      "  warnings.warn(msg, DataConversionWarning)\n"
     ]
    },
    {
     "name": "stdout",
     "output_type": "stream",
     "text": [
      "GBC mean accuracy:  0.820902850697\n",
      "GBC recall:  0.366340702175\n",
      "GBC precision:  0.559594330195\n"
     ]
    },
    {
     "ename": "NameError",
     "evalue": "name 'gbc_cv' is not defined",
     "output_type": "error",
     "traceback": [
      "\u001b[0;31m---------------------------------------------------------------------------\u001b[0m",
      "\u001b[0;31mNameError\u001b[0m                                 Traceback (most recent call last)",
      "\u001b[0;32m<ipython-input-22-5e700de0d389>\u001b[0m in \u001b[0;36m<module>\u001b[0;34m()\u001b[0m\n\u001b[1;32m      1\u001b[0m \u001b[0mgbc\u001b[0m\u001b[0;34m=\u001b[0m \u001b[0mgradboost\u001b[0m\u001b[0;34m(\u001b[0m\u001b[0mclean_df\u001b[0m\u001b[0;34m)\u001b[0m\u001b[0;34m\u001b[0m\u001b[0m\n\u001b[0;32m----> 2\u001b[0;31m \u001b[0mprint\u001b[0m\u001b[0;34m(\u001b[0m\u001b[0mgbc_cv\u001b[0m\u001b[0;34m.\u001b[0m\u001b[0mbest_params_best_par\u001b[0m \u001b[0;34m,\u001b[0m \u001b[0mgbc_cv\u001b[0m\u001b[0;34m.\u001b[0m\u001b[0mbest_score_\u001b[0m\u001b[0;34m)\u001b[0m\u001b[0;34m\u001b[0m\u001b[0m\n\u001b[0m",
      "\u001b[0;31mNameError\u001b[0m: name 'gbc_cv' is not defined"
     ]
    }
   ],
   "source": [
    "gbc= gradboost(clean_df)\n",
    "print(gbc_cv.best_params_best_par , gbc_cv.best_score_)"
   ]
  },
  {
   "cell_type": "markdown",
   "metadata": {},
   "source": [
    "\n",
    "***EDUCATION and MARRIAGE***\n",
    "\n",
    "run AGE before EDU and MARR (i don't know why, but other way causes error.)"
   ]
  },
  {
   "cell_type": "code",
   "execution_count": 108,
   "metadata": {},
   "outputs": [],
   "source": [
    "#create new boolean categories to separate out education (1-4) and marriage (1-3)#create  \n",
    "#drop one of each, because redundant info\n",
    "mar = pd.get_dummies(clean_df['MARRIAGE'],prefix='mar') #create marriage binaries\n",
    "mar = mar.drop('mar_3', axis=1) #drop one binary (all info contained in the remainder)\n",
    "clean_df = clean_df.drop('MARRIAGE',axis=1) #drop old marriage variable\n",
    "clean_df = clean_df.join(mar) #attach binaries to the dataframe\n",
    "\n",
    "edu = pd.get_dummies(clean_df['EDUCATION'],prefix='edu') #create education binaries\n",
    "edu = edu.drop('edu_4', axis=1)\n",
    "clean_df = clean_df.drop('EDUCATION',axis=1) #drop old education variable\n",
    "clean_df = clean_df.join(edu) #attach binaries to the  dataframe"
   ]
  },
  {
   "cell_type": "code",
   "execution_count": 146,
   "metadata": {},
   "outputs": [
    {
     "name": "stdout",
     "output_type": "stream",
     "text": [
      "13659\n",
      "15964\n"
     ]
    }
   ],
   "source": [
    "print(clean_df['mar_1'].sum())\n",
    "print(clean_df['mar_2'].sum())"
   ]
  },
  {
   "cell_type": "markdown",
   "metadata": {},
   "source": [
    "***AGE***"
   ]
  },
  {
   "cell_type": "code",
   "execution_count": 107,
   "metadata": {},
   "outputs": [
    {
     "name": "stdout",
     "output_type": "stream",
     "text": [
      "9618\n",
      "11238\n",
      "6464\n",
      "2341\n",
      "0\n"
     ]
    }
   ],
   "source": [
    "#AGE -> combine AGE into bins, boolean labels for age groups\n",
    "clean_df['AgeBin1']=0\n",
    "clean_df['AgeBin2']=0\n",
    "clean_df['AgeBin3']=0\n",
    "clean_df['AgeBin4']=0\n",
    "clean_df['AgeBin5']=0\n",
    "for i in range(len(clean_df)):\n",
    "    if (clean_df['AGE'][i] < 30):\n",
    "        clean_df['AgeBin1'][i] += 1\n",
    "    elif (clean_df['AGE'][i] < 40):\n",
    "        clean_df['AgeBin2'][i] += 1\n",
    "    elif (clean_df['AGE'][i] < 50):\n",
    "        clean_df['AgeBin3'][i] += 1\n",
    "    elif (clean_df['AGE'][i] < 60):\n",
    "        clean_df['AgeBin4'][i] += 1\n",
    "        \n",
    "clean_df = clean_df.drop('AGE', axis=1)\n",
    "print(clean_df['AgeBin1'].sum())        \n",
    "print(clean_df['AgeBin2'].sum()) \n",
    "print(clean_df['AgeBin3'].sum()) \n",
    "print(clean_df['AgeBin4'].sum()) \n",
    "print(clean_df['AgeBin5'].sum())"
   ]
  },
  {
   "cell_type": "markdown",
   "metadata": {},
   "source": [
    "*** BILL_AMT 1-6 ***\n",
    "* Compare current bill to previous, to see if it has increased *\n"
   ]
  },
  {
   "cell_type": "code",
   "execution_count": 109,
   "metadata": {},
   "outputs": [
    {
     "name": "stdout",
     "output_type": "stream",
     "text": [
      "False    16850\n",
      "True     13150\n",
      "Name: BILL_UP, dtype: int64\n"
     ]
    }
   ],
   "source": [
    "# ONE MONTH BILL COMPARE.  measure if the bill amount increased \n",
    "# True if AMT1(Sep) is more than the previous month.\n",
    "clean_df['BILL_UP'] = ( (clean_df['BILL_AMT1']>clean_df['BILL_AMT2']) ) \n",
    "print(clean_df['BILL_UP'].value_counts())"
   ]
  },
  {
   "cell_type": "code",
   "execution_count": null,
   "metadata": {
    "collapsed": true
   },
   "outputs": [],
   "source": [
    "# TWO MONTH BILL COMPARE.  measure if the bill amount increased # TWO MO \n",
    "# True if AMT1(Sep) is more than any of the previous 2 months.\n",
    "clean_df['BILL_UP'] = ( (clean_df['BILL_AMT1']> clean_df['BILL_AMT2']) | \n",
    "                        (clean_df['BILL_AMT1']> clean_df['BILL_AMT3'])  ) \n",
    "print(clean_df['BILL_UP'].value_counts())"
   ]
  },
  {
   "cell_type": "code",
   "execution_count": null,
   "metadata": {
    "collapsed": true
   },
   "outputs": [],
   "source": [
    "# THREE MONTH BILL COMPARE.  measure if the bill amount increased # THREE  \n",
    "# True if AMT1(Sep) is more than any of the previous 3 months.\n",
    "clean_df['BILL_UP'] = ( (clean_df['BILL_AMT1']> clean_df['BILL_AMT2']) | \n",
    "                        (clean_df['BILL_AMT1']> clean_df['BILL_AMT3']) | \n",
    "                        (clean_df['BILL_AMT1']> clean_df['BILL_AMT4']) ) \n",
    "print(clean_df['BILL_UP'].value_counts())"
   ]
  },
  {
   "cell_type": "code",
   "execution_count": null,
   "metadata": {
    "collapsed": true
   },
   "outputs": [],
   "source": [
    "# FOUR MONTH BILL COMPARE.  Measure if the bill amount increased \n",
    "# True if AMT1(Sep) is more than any of the previous 4 months.\n",
    "clean_df['BILL_UP'] = ( (clean_df['BILL_AMT1']> clean_df['BILL_AMT2']) | \n",
    "                        (clean_df['BILL_AMT1']> clean_df['BILL_AMT3']) | \n",
    "                        (clean_df['BILL_AMT1']> clean_df['BILL_AMT4']) | \n",
    "                        (clean_df['BILL_AMT1']> clean_df['BILL_AMT5']) ) \n",
    "print(clean_df['BILL_UP'].value_counts())"
   ]
  },
  {
   "cell_type": "code",
   "execution_count": 110,
   "metadata": {},
   "outputs": [
    {
     "name": "stdout",
     "output_type": "stream",
     "text": [
      "False    16850\n",
      "True     13150\n",
      "Name: BILL_UP, dtype: int64\n"
     ]
    }
   ],
   "source": [
    "# FIVE MONTH increase.  Measure if the bill amount increased # FIVE M \n",
    "# True if AMT1(Sep) is more than any of the previous 5 months.\n",
    "clean_df['BILL_UP_ALL_MONTHS'] = ( (clean_df['BILL_AMT1']> clean_df['BILL_AMT2']) | \n",
    "                        (clean_df['BILL_AMT1']> clean_df['BILL_AMT3']) | \n",
    "                        (clean_df['BILL_AMT1']> clean_df['BILL_AMT4']) | \n",
    "                        (clean_df['BILL_AMT1']> clean_df['BILL_AMT5']) | \n",
    "                        (clean_df['BILL_AMT1']> clean_df['BILL_AMT6']) ) \n",
    "print(clean_df['BILL_UP'].value_counts())"
   ]
  },
  {
   "cell_type": "markdown",
   "metadata": {},
   "source": [
    "***PAY 1-6***  \n",
    "**compare current payment to previous payments, to see if it has increased**"
   ]
  },
  {
   "cell_type": "code",
   "execution_count": 111,
   "metadata": {},
   "outputs": [
    {
     "name": "stdout",
     "output_type": "stream",
     "text": [
      "False    26779\n",
      "True      3221\n",
      "Name: PAY_UP, dtype: int64\n"
     ]
    }
   ],
   "source": [
    "# ONE MONTH PAY COMPARE.  measure if the pay amount increased \n",
    "# True if AMT1(Sep) is more than the previous month.\n",
    "clean_df['PAY_UP'] = ( (clean_df['PAY_1']>clean_df['PAY_2']) ) \n",
    "print(clean_df['PAY_UP'].value_counts())"
   ]
  },
  {
   "cell_type": "code",
   "execution_count": null,
   "metadata": {
    "collapsed": true
   },
   "outputs": [],
   "source": [
    "# TWO MONTH PAY COMPARE.  measure if the payment amount increased # TWO MO \n",
    "# True if AMT1(Sep) is more than any of the previous 2 months.\n",
    "clean_df['PAY_UP'] = ( (clean_df['PAY_1']>clean_df['PAY_2']) | \n",
    "                      (clean_df['PAY_1']>clean_df['PAY_3']) ) \n",
    "print(clean_df['PAY_UP'].value_counts())"
   ]
  },
  {
   "cell_type": "code",
   "execution_count": null,
   "metadata": {
    "collapsed": true
   },
   "outputs": [],
   "source": [
    "# THREE MONTH PAY COMPARE.  measure if the payment amount increased \n",
    "# True if AMT1(Sep) is more than any of the previous 3 months.\n",
    "clean_df['PAY_UP'] = ( (clean_df['PAY_1']>clean_df['PAY_2']) | \n",
    "                      (clean_df['PAY_1']>clean_df['PAY_3']) | \n",
    "                      (clean_df['PAY_1']>clean_df['PAY_4']) ) \n",
    "print(clean_df['PAY_UP'].value_counts())"
   ]
  },
  {
   "cell_type": "code",
   "execution_count": null,
   "metadata": {
    "collapsed": true
   },
   "outputs": [],
   "source": [
    "# FOUR MONTH PAY COMPARE.  Measure if the payment amount increased \n",
    "# True if AMT1(Sep) is more than any of the previous 4 months.\n",
    "clean_df['PAY_UP'] = ( (clean_df['PAY_1']>clean_df['PAY_2']) | \n",
    "                      (clean_df['PAY_1']>clean_df['PAY_3']) | \n",
    "                      (clean_df['PAY_1']>clean_df['PAY_4']) | \n",
    "                      (clean_df['PAY_1']>clean_df['PAY_5']) ) \n",
    "print(clean_df['PAY_UP'].value_counts())"
   ]
  },
  {
   "cell_type": "code",
   "execution_count": 112,
   "metadata": {},
   "outputs": [
    {
     "name": "stdout",
     "output_type": "stream",
     "text": [
      "False    26779\n",
      "True      3221\n",
      "Name: PAY_UP, dtype: int64\n"
     ]
    }
   ],
   "source": [
    "# FIVE MONTH PAY COMPARE.  Measure if the payment amount increased \n",
    "# True if AMT1(Sep) is more than any of the previous 5 months.\n",
    "clean_df['PAY_UP_ALL_MONTHS'] = ( (clean_df['PAY_1']>clean_df['PAY_2']) | \n",
    "                      (clean_df['PAY_1']>clean_df['PAY_3']) | \n",
    "                      (clean_df['PAY_1']>clean_df['PAY_4']) | \n",
    "                      (clean_df['PAY_1']>clean_df['PAY_5']) | \n",
    "                      (clean_df['PAY_1']>clean_df['PAY_6']) ) \n",
    "print(clean_df['PAY_UP'].value_counts())"
   ]
  },
  {
   "cell_type": "markdown",
   "metadata": {},
   "source": [
    "<h4> PAY AMOUNT LOG SCALE </H4>"
   ]
  },
  {
   "cell_type": "code",
   "execution_count": 113,
   "metadata": {
    "collapsed": true
   },
   "outputs": [],
   "source": [
    "# PAY amounts change scale to log\n",
    "from math import log\n",
    "for i in range(6):\n",
    "    i+=1\n",
    "    clean_df['PAY_AMT_LOG'+str(i)] = clean_df['PAY_AMT'+str(i)].apply(lambda x: log(x+1))\n",
    "    clean_df = clean_df.drop('PAY_AMT'+str(i), axis=1)"
   ]
  },
  {
   "cell_type": "markdown",
   "metadata": {},
   "source": [
    "<h4> BILL AMOUNT LOG SCALE </H4>"
   ]
  },
  {
   "cell_type": "code",
   "execution_count": 114,
   "metadata": {},
   "outputs": [],
   "source": [
    "# BILL amounts change scale to log# BILL a \n",
    "from math import log\n",
    "\n",
    "for i in range(6):\n",
    "    i+=1\n",
    "    clean_df['BILL_AMT_LOG'+str(i)] =clean_df['BILL_AMT'+str(i)].apply(lambda x: log(x+1) if x>0 else 0)"
   ]
  },
  {
   "cell_type": "markdown",
   "metadata": {},
   "source": [
    "Create new variable, OWED1-6, indicating amount owed. BILL_AMT1-6 - PAY_AMT1-6 Then remove bill amt."
   ]
  },
  {
   "cell_type": "code",
   "execution_count": 115,
   "metadata": {
    "collapsed": true
   },
   "outputs": [],
   "source": [
    "clean_df['OWED_1'] = clean_df['BILL_AMT1'] - clean_df['PAY_1']\n",
    "clean_df['OWED_2'] = clean_df['BILL_AMT2'] - clean_df['PAY_2']\n",
    "clean_df['OWED_3'] = clean_df['BILL_AMT3'] - clean_df['PAY_3']\n",
    "clean_df['OWED_4'] = clean_df['BILL_AMT4'] - clean_df['PAY_4']\n",
    "clean_df['OWED_5'] = clean_df['BILL_AMT5'] - clean_df['PAY_5']\n",
    "clean_df['OWED_6'] = clean_df['BILL_AMT6'] - clean_df['PAY_6']"
   ]
  },
  {
   "cell_type": "code",
   "execution_count": 116,
   "metadata": {},
   "outputs": [
    {
     "name": "stderr",
     "output_type": "stream",
     "text": [
      "/Users/brentmarijensen/anaconda3/lib/python3.6/site-packages/sklearn/utils/validation.py:475: DataConversionWarning: Data with input dtype object was converted to float64 by the scale function.\n",
      "  warnings.warn(msg, DataConversionWarning)\n"
     ]
    },
    {
     "name": "stdout",
     "output_type": "stream",
     "text": [
      "average cross-val score:  0.763505256797\n",
      "recall:  0.599609069763\n",
      "precision:  0.532807881312\n",
      "coefficients: \n",
      "[[-0.2406515  -0.06590725  0.75085162 -0.02482301  0.08895082  0.02241849\n",
      "   0.071694    0.10603418  0.06407783  0.02740776 -0.00831764  0.00572793\n",
      "   0.01244345 -0.025895   -0.10535128 -0.11643086 -0.06371679 -0.044059    0.\n",
      "   0.04646771 -0.03817659  0.48818054  0.52325001  0.37276153 -0.08825033\n",
      "  -0.07087758 -0.11503368 -0.00935775 -0.1837679  -0.09454923 -0.15277108\n",
      "  -0.08298895 -0.04498197 -0.04030534 -0.02276663  0.01196248  0.06624761\n",
      "   0.07894841 -0.05782749  0.0355093   0.06407008  0.02740804 -0.00831865\n",
      "   0.00572766  0.01244261 -0.02589628]]\n"
     ]
    }
   ],
   "source": [
    "model, recall_engineered =regress(clean_df)\n",
    "print('coefficients: ')\n",
    "print(model.coef_)"
   ]
  },
  {
   "cell_type": "code",
   "execution_count": 117,
   "metadata": {},
   "outputs": [
    {
     "data": {
      "text/plain": [
       "Index(['LIMIT_BAL', 'SEX', 'PAY_1', 'PAY_2', 'PAY_3', 'PAY_4', 'PAY_5',\n",
       "       'PAY_6', 'BILL_AMT1', 'BILL_AMT2', 'BILL_AMT3', 'BILL_AMT4',\n",
       "       'BILL_AMT5', 'BILL_AMT6', 'default payment next month', 'AgeBin1',\n",
       "       'AgeBin2', 'AgeBin3', 'AgeBin4', 'AgeBin5', 'mar_1', 'mar_2', 'edu_1',\n",
       "       'edu_2', 'edu_3', 'BILL_UP', 'BILL_UP_ALL_MONTHS', 'PAY_UP',\n",
       "       'PAY_UP_ALL_MONTHS', 'PAY_AMT_LOG1', 'PAY_AMT_LOG2', 'PAY_AMT_LOG3',\n",
       "       'PAY_AMT_LOG4', 'PAY_AMT_LOG5', 'PAY_AMT_LOG6', 'BILL_AMT_LOG1',\n",
       "       'BILL_AMT_LOG2', 'BILL_AMT_LOG3', 'BILL_AMT_LOG4', 'BILL_AMT_LOG5',\n",
       "       'BILL_AMT_LOG6', 'OWED_1', 'OWED_2', 'OWED_3', 'OWED_4', 'OWED_5',\n",
       "       'OWED_6'],\n",
       "      dtype='object')"
      ]
     },
     "execution_count": 117,
     "metadata": {},
     "output_type": "execute_result"
    }
   ],
   "source": [
    "clean_df.columns"
   ]
  },
  {
   "cell_type": "code",
   "execution_count": 151,
   "metadata": {},
   "outputs": [
    {
     "data": {
      "image/png": "[encoded data removed]",
      "text/plain": [
       "<matplotlib.figure.Figure at 0x1a1a4499b0>"
      ]
     },
     "metadata": {},
     "output_type": "display_data"
    }
   ],
   "source": [
    "#show feature importance coefficients, in order of magnitude of importance.\n",
    "import seaborn as sns\n",
    "importance = pd.DataFrame()\n",
    "importances = model.coef_[0][:]  #change coefficients dataframe into a series\n",
    "labels = clean_df.drop('default payment next month', axis=1).columns.values\n",
    "importance['magnitude'] = importances\n",
    "importance['features'] = labels\n",
    "importance = importance.sort_values(by='magnitude', ascending=False)\n",
    "fig, ax = plt.subplots()\n",
    "fig.set_size_inches(8,8)\n",
    "sns.barplot(x='magnitude', y='features', data=importance.iloc[0:46,:], ax=ax, palette=\"coolwarm\")\n",
    "plt.title(\"Log Regression: Feature Importance\")\n",
    "plt.show()"
   ]
  },
  {
   "cell_type": "code",
   "execution_count": null,
   "metadata": {
    "collapsed": true
   },
   "outputs": [],
   "source": []
  }
 ],
 "metadata": {
  "kernelspec": {
   "display_name": "Python 3",
   "language": "python",
   "name": "python3"
  },
  "language_info": {
   "codemirror_mode": {
    "name": "ipython",
    "version": 3
   },
   "file_extension": ".py",
   "mimetype": "text/x-python",
   "name": "python",
   "nbconvert_exporter": "python",
   "pygments_lexer": "ipython3",
   "version": "3.6.3"
  }
 },
 "nbformat": 4,
 "nbformat_minor": 2
}

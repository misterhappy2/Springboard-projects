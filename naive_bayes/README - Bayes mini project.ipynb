{
 "cells": [
  {
   "cell_type": "markdown",
   "metadata": {},
   "source": [
    "***\n",
    "<h3>README</h3>  \n",
    "*** \n",
    "\n",
    "Machine Learning / Naive-Bayes, a mini-project for Springboard DataCamp.  \n",
    "Uses statsmodels, seaborn, and scikit-learn modules in Python.  \n",
    "Also Vectorizer.\n",
    "\n",
    "Uses movie critic reviews from RottenTomatoes site.  \n",
    "\n",
    "My comments are highlighted in <i style=\"background-color:#d2f9d2;\">green</i>"
   ]
  },
  {
   "cell_type": "code",
   "execution_count": null,
   "metadata": {
    "collapsed": true
   },
   "outputs": [],
   "source": []
  }
 ],
 "metadata": {
  "kernelspec": {
   "display_name": "Python 3",
   "language": "python",
   "name": "python3"
  },
  "language_info": {
   "codemirror_mode": {
    "name": "ipython",
    "version": 3
   },
   "file_extension": ".py",
   "mimetype": "text/x-python",
   "name": "python",
   "nbconvert_exporter": "python",
   "pygments_lexer": "ipython3",
   "version": "3.6.3"
  }
 },
 "nbformat": 4,
 "nbformat_minor": 2
}
